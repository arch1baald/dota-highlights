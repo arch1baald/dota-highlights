{
 "cells": [
  {
   "cell_type": "code",
   "execution_count": 1,
   "id": "90269128-7644-482f-88f7-f1e0c7a157bc",
   "metadata": {},
   "outputs": [],
   "source": [
    "import os\n",
    "import json\n",
    "\n",
    "import pandas as pd\n",
    "import numpy as np\n",
    "import matplotlib.pyplot as plt\n",
    "\n",
    "REPLAYS_DIR = os.path.join('../replays/')"
   ]
  },
  {
   "cell_type": "code",
   "execution_count": 2,
   "id": "edc9fd29-d05f-4173-a184-311ce748379b",
   "metadata": {},
   "outputs": [],
   "source": [
    "dem_path = os.path.join(REPLAYS_DIR, '6227492909.jsonlines')\n",
    "with open(dem_path, 'r') as fin:\n",
    "    jsonlines = [json.loads(event) for event in fin.readlines()]"
   ]
  },
  {
   "cell_type": "code",
   "execution_count": 26,
   "id": "9594667f-2c23-499a-9ce0-f89c21e2aa89",
   "metadata": {},
   "outputs": [
    {
     "data": {
      "text/plain": [
       "205385"
      ]
     },
     "execution_count": 26,
     "metadata": {},
     "output_type": "execute_result"
    }
   ],
   "source": [
    "len(jsonlines)"
   ]
  },
  {
   "cell_type": "code",
   "execution_count": 29,
   "id": "e56b83e2-def4-41c8-b331-fcb91e5331da",
   "metadata": {},
   "outputs": [
    {
     "data": {
      "text/plain": [
       "{'time': -852, 'type': 'player_slot', 'key': '8', 'value': 131}"
      ]
     },
     "execution_count": 29,
     "metadata": {},
     "output_type": "execute_result"
    }
   ],
   "source": [
    "jsonlines[10]"
   ]
  },
  {
   "cell_type": "code",
   "execution_count": 25,
   "id": "befccadb-e12a-4f9f-9454-2e36d019c404",
   "metadata": {},
   "outputs": [
    {
     "data": {
      "text/plain": [
       "{'time': 1011,\n",
       " 'type': 'DOTA_COMBATLOG_MODIFIER_REMOVE',\n",
       " 'value': 0,\n",
       " 'attackername': 'npc_dota_badguys_tower2_top',\n",
       " 'targetname': 'npc_dota_hero_enchantress',\n",
       " 'sourcename': 'dota_unknown',\n",
       " 'targetsourcename': 'dota_unknown',\n",
       " 'attackerhero': False,\n",
       " 'targethero': True,\n",
       " 'attackerillusion': False,\n",
       " 'targetillusion': False,\n",
       " 'inflictor': 'modifier_tower_aura_bonus'}"
      ]
     },
     "execution_count": 25,
     "metadata": {},
     "output_type": "execute_result"
    }
   ],
   "source": [
    "jsonlines[100212]"
   ]
  },
  {
   "cell_type": "code",
   "execution_count": 3,
   "id": "e3d4d8c1-f660-4797-8432-cc528e319a01",
   "metadata": {},
   "outputs": [
    {
     "data": {
      "text/plain": [
       "Counter({'DOTA_COMBATLOG_GAME_STATE': 8,\n",
       "         'player_slot': 10,\n",
       "         'interval': 30580,\n",
       "         'draft_start': 1,\n",
       "         'draft_timings': 24,\n",
       "         'actions': 113360,\n",
       "         'CHAT_MESSAGE_ITEM_PURCHASE': 58,\n",
       "         'DOTA_COMBATLOG_GOLD': 2612,\n",
       "         'DOTA_COMBATLOG_MODIFIER_ADD': 7058,\n",
       "         'DOTA_COMBATLOG_PURCHASE': 522,\n",
       "         'DOTA_ABILITY_LEVEL': 406,\n",
       "         'DOTA_COMBATLOG_ABILITY': 1245,\n",
       "         'chatwheel': 22,\n",
       "         'DOTA_COMBATLOG_ITEM': 1658,\n",
       "         'chat': 10,\n",
       "         'DOTA_COMBATLOG_MODIFIER_REMOVE': 7021,\n",
       "         'pings': 482,\n",
       "         'obs': 34,\n",
       "         'DOTA_COMBATLOG_PLAYERSTATS': 225,\n",
       "         'DOTA_COMBATLOG_DAMAGE': 27580,\n",
       "         'DOTA_COMBATLOG_DEATH': 3260,\n",
       "         'CHAT_MESSAGE_RUNE_PICKUP': 41,\n",
       "         'STARTING_ITEM': 52,\n",
       "         'sen': 66,\n",
       "         'CHAT_MESSAGE_SENTRY_WARD_KILLED': 23,\n",
       "         'DOTA_COMBATLOG_XP': 4030,\n",
       "         'sen_left': 58,\n",
       "         'DOTA_COMBATLOG_HEAL': 4697,\n",
       "         'CHAT_MESSAGE_RUNE_BOTTLE': 20,\n",
       "         'CHAT_MESSAGE_COURIER_LOST': 5,\n",
       "         'CHAT_MESSAGE_HERO_KILL': 41,\n",
       "         'CHAT_MESSAGE_FIRSTBLOOD': 1,\n",
       "         'DOTA_COMBATLOG_FIRST_BLOOD': 1,\n",
       "         'CHAT_MESSAGE_COURIER_RESPAWNED': 5,\n",
       "         'CHAT_MESSAGE_OBSERVER_WARD_KILLED': 11,\n",
       "         'obs_left': 30,\n",
       "         'CHAT_MESSAGE_INVALID': 4,\n",
       "         'CHAT_MESSAGE_GLYPH_USED': 8,\n",
       "         'CHAT_MESSAGE_SCAN_USED': 11,\n",
       "         'CHAT_MESSAGE_TOWER_KILL': 12,\n",
       "         'DOTA_COMBATLOG_TEAM_BUILDING_KILL': 21,\n",
       "         'CHAT_MESSAGE_STREAK_KILL': 19,\n",
       "         'DOTA_COMBATLOG_KILLSTREAK': 16,\n",
       "         'DOTA_COMBATLOG_MULTIKILL': 6,\n",
       "         'CHAT_MESSAGE_ROSHAN_KILL': 1,\n",
       "         'CHAT_MESSAGE_AEGIS': 1,\n",
       "         'CHAT_MESSAGE_BUYBACK': 8,\n",
       "         'DOTA_COMBATLOG_BUYBACK': 8,\n",
       "         'CHAT_MESSAGE_BARRACKS_KILL': 4,\n",
       "         'CHAT_MESSAGE_EFFIGY_KILL': 1,\n",
       "         'CHAT_MESSAGE_DISCONNECT': 5,\n",
       "         'cosmetics': 1,\n",
       "         'dotaplus': 1,\n",
       "         'epilogue': 1})"
      ]
     },
     "execution_count": 3,
     "metadata": {},
     "output_type": "execute_result"
    }
   ],
   "source": [
    "from collections import Counter\n",
    "\n",
    "Counter([e['type'] for e in jsonlines])"
   ]
  },
  {
   "cell_type": "markdown",
   "id": "9d350793-5441-40f4-90e8-b83fab0c22f7",
   "metadata": {},
   "source": [
    "Damage"
   ]
  },
  {
   "cell_type": "code",
   "execution_count": 4,
   "id": "d95d0432-9480-4225-889d-82714f1da565",
   "metadata": {},
   "outputs": [
    {
     "data": {
      "text/html": [
       "<div>\n",
       "<style scoped>\n",
       "    .dataframe tbody tr th:only-of-type {\n",
       "        vertical-align: middle;\n",
       "    }\n",
       "\n",
       "    .dataframe tbody tr th {\n",
       "        vertical-align: top;\n",
       "    }\n",
       "\n",
       "    .dataframe thead th {\n",
       "        text-align: right;\n",
       "    }\n",
       "</style>\n",
       "<table border=\"1\" class=\"dataframe\">\n",
       "  <thead>\n",
       "    <tr style=\"text-align: right;\">\n",
       "      <th></th>\n",
       "      <th></th>\n",
       "      <th>value</th>\n",
       "    </tr>\n",
       "    <tr>\n",
       "      <th>attackername</th>\n",
       "      <th>targetname</th>\n",
       "      <th></th>\n",
       "    </tr>\n",
       "  </thead>\n",
       "  <tbody>\n",
       "    <tr>\n",
       "      <th rowspan=\"5\" valign=\"top\">npc_dota_hero_bane</th>\n",
       "      <th>npc_dota_hero_enchantress</th>\n",
       "      <td>2133</td>\n",
       "    </tr>\n",
       "    <tr>\n",
       "      <th>npc_dota_hero_kunkka</th>\n",
       "      <td>3574</td>\n",
       "    </tr>\n",
       "    <tr>\n",
       "      <th>npc_dota_hero_lycan</th>\n",
       "      <td>70</td>\n",
       "    </tr>\n",
       "    <tr>\n",
       "      <th>npc_dota_hero_skywrath_mage</th>\n",
       "      <td>540</td>\n",
       "    </tr>\n",
       "    <tr>\n",
       "      <th>npc_dota_hero_tiny</th>\n",
       "      <td>2412</td>\n",
       "    </tr>\n",
       "    <tr>\n",
       "      <th>...</th>\n",
       "      <th>...</th>\n",
       "      <td>...</td>\n",
       "    </tr>\n",
       "    <tr>\n",
       "      <th rowspan=\"5\" valign=\"top\">npc_dota_hero_winter_wyvern</th>\n",
       "      <th>npc_dota_hero_kunkka</th>\n",
       "      <td>1865</td>\n",
       "    </tr>\n",
       "    <tr>\n",
       "      <th>npc_dota_hero_lycan</th>\n",
       "      <td>1971</td>\n",
       "    </tr>\n",
       "    <tr>\n",
       "      <th>npc_dota_hero_skywrath_mage</th>\n",
       "      <td>1997</td>\n",
       "    </tr>\n",
       "    <tr>\n",
       "      <th>npc_dota_hero_terrorblade</th>\n",
       "      <td>312</td>\n",
       "    </tr>\n",
       "    <tr>\n",
       "      <th>npc_dota_hero_tiny</th>\n",
       "      <td>4709</td>\n",
       "    </tr>\n",
       "  </tbody>\n",
       "</table>\n",
       "<p>62 rows × 1 columns</p>\n",
       "</div>"
      ],
      "text/plain": [
       "                                                         value\n",
       "attackername                targetname                        \n",
       "npc_dota_hero_bane          npc_dota_hero_enchantress     2133\n",
       "                            npc_dota_hero_kunkka          3574\n",
       "                            npc_dota_hero_lycan             70\n",
       "                            npc_dota_hero_skywrath_mage    540\n",
       "                            npc_dota_hero_tiny            2412\n",
       "...                                                        ...\n",
       "npc_dota_hero_winter_wyvern npc_dota_hero_kunkka          1865\n",
       "                            npc_dota_hero_lycan           1971\n",
       "                            npc_dota_hero_skywrath_mage   1997\n",
       "                            npc_dota_hero_terrorblade      312\n",
       "                            npc_dota_hero_tiny            4709\n",
       "\n",
       "[62 rows x 1 columns]"
      ]
     },
     "metadata": {},
     "output_type": "display_data"
    },
    {
     "data": {
      "text/plain": [
       "array(['npc_dota_hero_ember_spirit', 'npc_dota_hero_kunkka',\n",
       "       'npc_dota_hero_enchantress', 'npc_dota_hero_bane',\n",
       "       'npc_dota_hero_tiny', 'npc_dota_hero_magnataur',\n",
       "       'npc_dota_hero_lycan', 'npc_dota_hero_skywrath_mage',\n",
       "       'npc_dota_hero_winter_wyvern', 'npc_dota_hero_terrorblade'],\n",
       "      dtype=object)"
      ]
     },
     "execution_count": 4,
     "metadata": {},
     "output_type": "execute_result"
    }
   ],
   "source": [
    "df_damage = pd.DataFrame([\n",
    "    e for e in jsonlines \n",
    "    if e['type'] == 'DOTA_COMBATLOG_DAMAGE' and\n",
    "    e['attackerhero'] and e['targethero']\n",
    "])\n",
    "\n",
    "display(df_damage.groupby(['attackername', 'targetname']).agg({'value': 'sum'}))\n",
    "df_damage['attackername'].unique()"
   ]
  },
  {
   "cell_type": "code",
   "execution_count": 5,
   "id": "b770ae6d-c29e-486f-b6e9-a1f2ed1495c3",
   "metadata": {},
   "outputs": [
    {
     "data": {
      "text/plain": [
       "<matplotlib.collections.PathCollection at 0x7febbf4dad30>"
      ]
     },
     "execution_count": 5,
     "metadata": {},
     "output_type": "execute_result"
    },
    {
     "data": {
      "image/png": "[encoded data removed]",
      "text/plain": [
       "<Figure size 1368x360 with 1 Axes>"
      ]
     },
     "metadata": {
      "needs_background": "light"
     },
     "output_type": "display_data"
    }
   ],
   "source": [
    "df_player_damage = df_damage[df_damage['attackername'] == 'npc_dota_hero_magnataur'].copy()\n",
    "df_player_damage['ones'] = 1\n",
    "\n",
    "fig, ax = plt.subplots(figsize=(19, 5))\n",
    "plt.scatter(\n",
    "    x=df_player_damage['time'] / 60, \n",
    "    y=df_player_damage['ones']\n",
    ")"
   ]
  },
  {
   "cell_type": "code",
   "execution_count": 6,
   "id": "e55b8c36-721e-4598-882e-f9a8d9e74d8a",
   "metadata": {},
   "outputs": [
    {
     "data": {
      "text/plain": [
       "<matplotlib.collections.PathCollection at 0x7febc0074970>"
      ]
     },
     "execution_count": 6,
     "metadata": {},
     "output_type": "execute_result"
    },
    {
     "data": {
      "image/png": "[encoded data removed]",
      "text/plain": [
       "<Figure size 1368x360 with 1 Axes>"
      ]
     },
     "metadata": {
      "needs_background": "light"
     },
     "output_type": "display_data"
    }
   ],
   "source": [
    "df_player_late_damage = df_player_damage[df_player_damage['time'] > 10 * 60].copy()\n",
    "\n",
    "fig, ax = plt.subplots(figsize=(19, 5))\n",
    "plt.scatter(\n",
    "    x=df_player_late_damage['time'] / 60, \n",
    "    y=df_player_late_damage['ones'], \n",
    "    s=df_player_late_damage['value']\n",
    ")"
   ]
  },
  {
   "cell_type": "code",
   "execution_count": 39,
   "id": "6cfa18a6-671d-4038-82b2-4bd90d2f465c",
   "metadata": {},
   "outputs": [
    {
     "data": {
      "text/plain": [
       "<matplotlib.collections.PathCollection at 0x7feb9aab8f70>"
      ]
     },
     "execution_count": 39,
     "metadata": {},
     "output_type": "execute_result"
    },
    {
     "data": {
      "image/png": "[encoded data removed]",
      "text/plain": [
       "<Figure size 1368x360 with 1 Axes>"
      ]
     },
     "metadata": {
      "needs_background": "light"
     },
     "output_type": "display_data"
    }
   ],
   "source": [
    "from sklearn.cluster import DBSCAN\n",
    "\n",
    "dbscan = DBSCAN(eps=30, min_samples=2)\n",
    "cluster = dbscan.fit_predict(df_player_late_damage[['time', 'ones']])\n",
    "df_player_late_damage['cluster'] = cluster\n",
    "\n",
    "fig, ax = plt.subplots(figsize=(19, 5))\n",
    "plt.scatter(\n",
    "    x=df_player_late_damage['time'] / 60, \n",
    "    y=df_player_late_damage['ones'], \n",
    "    s=df_player_late_damage['value'],\n",
    "    c=df_player_late_damage['cluster']\n",
    ")"
   ]
  },
  {
   "cell_type": "code",
   "execution_count": 40,
   "id": "8740f90c-6833-4c1a-b9bd-17d521f7240b",
   "metadata": {},
   "outputs": [
    {
     "data": {
      "text/html": [
       "<div>\n",
       "<style scoped>\n",
       "    .dataframe tbody tr th:only-of-type {\n",
       "        vertical-align: middle;\n",
       "    }\n",
       "\n",
       "    .dataframe tbody tr th {\n",
       "        vertical-align: top;\n",
       "    }\n",
       "\n",
       "    .dataframe thead tr th {\n",
       "        text-align: left;\n",
       "    }\n",
       "\n",
       "    .dataframe thead tr:last-of-type th {\n",
       "        text-align: right;\n",
       "    }\n",
       "</style>\n",
       "<table border=\"1\" class=\"dataframe\">\n",
       "  <thead>\n",
       "    <tr>\n",
       "      <th></th>\n",
       "      <th colspan=\"2\" halign=\"left\">stime</th>\n",
       "    </tr>\n",
       "    <tr>\n",
       "      <th></th>\n",
       "      <th>first</th>\n",
       "      <th>last</th>\n",
       "    </tr>\n",
       "    <tr>\n",
       "      <th>cluster</th>\n",
       "      <th></th>\n",
       "      <th></th>\n",
       "    </tr>\n",
       "  </thead>\n",
       "  <tbody>\n",
       "    <tr>\n",
       "      <th>0</th>\n",
       "      <td>19:03</td>\n",
       "      <td>19:27</td>\n",
       "    </tr>\n",
       "    <tr>\n",
       "      <th>1</th>\n",
       "      <td>20:38</td>\n",
       "      <td>20:42</td>\n",
       "    </tr>\n",
       "    <tr>\n",
       "      <th>2</th>\n",
       "      <td>23:18</td>\n",
       "      <td>23:40</td>\n",
       "    </tr>\n",
       "    <tr>\n",
       "      <th>3</th>\n",
       "      <td>26:04</td>\n",
       "      <td>26:10</td>\n",
       "    </tr>\n",
       "    <tr>\n",
       "      <th>4</th>\n",
       "      <td>26:48</td>\n",
       "      <td>27:17</td>\n",
       "    </tr>\n",
       "    <tr>\n",
       "      <th>5</th>\n",
       "      <td>29:01</td>\n",
       "      <td>29:20</td>\n",
       "    </tr>\n",
       "    <tr>\n",
       "      <th>6</th>\n",
       "      <td>29:53</td>\n",
       "      <td>30:12</td>\n",
       "    </tr>\n",
       "    <tr>\n",
       "      <th>7</th>\n",
       "      <td>31:51</td>\n",
       "      <td>32:20</td>\n",
       "    </tr>\n",
       "    <tr>\n",
       "      <th>8</th>\n",
       "      <td>33:11</td>\n",
       "      <td>34:12</td>\n",
       "    </tr>\n",
       "    <tr>\n",
       "      <th>9</th>\n",
       "      <td>35:23</td>\n",
       "      <td>36:41</td>\n",
       "    </tr>\n",
       "  </tbody>\n",
       "</table>\n",
       "</div>"
      ],
      "text/plain": [
       "         stime       \n",
       "         first   last\n",
       "cluster              \n",
       "0        19:03  19:27\n",
       "1        20:38  20:42\n",
       "2        23:18  23:40\n",
       "3        26:04  26:10\n",
       "4        26:48  27:17\n",
       "5        29:01  29:20\n",
       "6        29:53  30:12\n",
       "7        31:51  32:20\n",
       "8        33:11  34:12\n",
       "9        35:23  36:41"
      ]
     },
     "execution_count": 40,
     "metadata": {},
     "output_type": "execute_result"
    }
   ],
   "source": [
    "df_player_late_damage['stime'] = df_player_late_damage['time'].apply(\n",
    "    lambda t: f'{t // 60}:{str(t % 60).zfill(2)}')\n",
    "df_action = df_player_late_damage.groupby('cluster').agg({'stime': ['first', 'last']})\n",
    "df_action.sort_values(('stime', 'first'))"
   ]
  },
  {
   "cell_type": "code",
   "execution_count": null,
   "id": "ba3ee952-67fe-49cf-8f95-087b7ad1dd03",
   "metadata": {},
   "outputs": [],
   "source": []
  }
 ],
 "metadata": {
  "kernelspec": {
   "display_name": "Python 3 (ipykernel)",
   "language": "python",
   "name": "python3"
  },
  "language_info": {
   "codemirror_mode": {
    "name": "ipython",
    "version": 3
   },
   "file_extension": ".py",
   "mimetype": "text/x-python",
   "name": "python",
   "nbconvert_exporter": "python",
   "pygments_lexer": "ipython3",
   "version": "3.9.5"
  }
 },
 "nbformat": 4,
 "nbformat_minor": 5
}
